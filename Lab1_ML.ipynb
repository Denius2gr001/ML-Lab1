{
 "cells": [
  {
   "cell_type": "code",
   "execution_count": 2,
   "id": "public-modem",
   "metadata": {},
   "outputs": [],
   "source": [
    "import numpy as np\n",
    "df = np.genfromtxt('data.csv', delimiter=',')"
   ]
  },
  {
   "cell_type": "code",
   "execution_count": 3,
   "id": "electric-technician",
   "metadata": {},
   "outputs": [
    {
     "data": {
      "text/plain": [
       "Text(0.5, 1.0, 'Training Set Table')"
      ]
     },
     "execution_count": 3,
     "metadata": {},
     "output_type": "execute_result"
    },
    {
     "data": {
      "image/png": "[encoded data removed]",
      "text/plain": [
       "<Figure size 432x288 with 1 Axes>"
      ]
     },
     "metadata": {
      "needs_background": "light"
     },
     "output_type": "display_data"
    }
   ],
   "source": [
    "import matplotlib.pyplot as plt\n",
    "plt.plot(df[:,0], df[:,1], 'gx')\n",
    "plt.xlabel(\"Features X\")\n",
    "plt.ylabel(\"Targets Y\")\n",
    "plt.title(\"Training Set Table\")"
   ]
  },
  {
   "cell_type": "code",
   "execution_count": 4,
   "id": "familiar-marshall",
   "metadata": {},
   "outputs": [],
   "source": [
    "x_var = np.zeros(df.shape)\n",
    "x_var[:,0] = np.ones(df.shape[0])\n",
    "x_var[:,1] = df[:,0]\n",
    "y_tar = df[:, 1]"
   ]
  },
  {
   "cell_type": "code",
   "execution_count": 5,
   "id": "conscious-validation",
   "metadata": {},
   "outputs": [],
   "source": [
    "def hypothesis(x_input, beta):\n",
    "    return x_input @ beta"
   ]
  },
  {
   "cell_type": "code",
   "execution_count": 6,
   "id": "spanish-twenty",
   "metadata": {},
   "outputs": [],
   "source": [
    "def cost_function(x_input, y_tar, beta):\n",
    "    m = x_input.shape[0]\n",
    "    return ((hypothesis(x_input, beta) - y_tar).T @ (hypothesis(x_input, beta) - y_tar)) / (2*m)"
   ]
  },
  {
   "cell_type": "code",
   "execution_count": 7,
   "id": "sunrise-korean",
   "metadata": {},
   "outputs": [],
   "source": [
    "def gradient_descent(a, beta, x_input, y_tar):\n",
    "    m = x_input.shape[0] #60\n",
    "    prev_beta = np.copy(beta)\n",
    "    np.subtract(beta, (a/m) * (x_input.T @ (hypothesis(x_input, beta) - y_tar)), out=beta)\n",
    "    eps = 0.0000001\n",
    "    itr = 1\n",
    "    print(f'Epoch = 0, beta = {beta}, cost_function = {cost_function(x_input, y_tar, beta)}')\n",
    "    while np.max(np.absolute(beta - prev_beta)) > eps:\n",
    "        prev_beta = np.copy(beta)\n",
    "        np.subtract(beta, (a/m) * (x_input.T @ (hypothesis(x_input, beta) - y_tar)), out=beta)\n",
    "        itr += 1\n",
    "    print(f'Epoch = {itr}, theta = {beta}, cost_function = {cost_function(x_input, y_tar, beta)}')\n",
    "    return beta"
   ]
  },
  {
   "cell_type": "code",
   "execution_count": 8,
   "id": "single-wyoming",
   "metadata": {},
   "outputs": [
    {
     "name": "stdout",
     "output_type": "stream",
     "text": [
      "Epoch = 0, beta = [0.20684578 0.07771669], cost_function = 209.15329014737134\n",
      "Epoch = 58500, theta = [19.79241162  2.38713778], cost_function = 0.03303267115075177\n",
      "Epoch = 0, beta = [0.20623267 0.06737922], cost_function = 208.08601642446442\n",
      "Epoch = 28247, theta = [20.00604519  1.90951963], cost_function = 0.038996404434440746\n",
      "Epoch = 0, beta = [0.20510836 0.05670335], cost_function = 205.95472904327823\n",
      "Epoch = 26810, theta = [19.95630754  2.03326082], cost_function = 0.033884154541092074\n",
      "Epoch = 0, beta = [0.20379572 0.045557  ], cost_function = 203.38302997676288\n",
      "Epoch = 51490, theta = [20.03198703  1.5641208 ], cost_function = 0.0364392009486711\n",
      "\n",
      "cost_func for alpha(1) = [0.06137883 0.03067304 0.04491757 0.05258031]\n",
      "min value in cost_func = 0.03067303565517914\n",
      "max value in cost_func = 0.0613788320942307\n",
      "\n",
      "Epoch = 0, beta = [0.62053734 0.23315007], cost_function = 199.6112728014475\n",
      "Epoch = 21927, theta = [19.79257946  2.38669547], cost_function = 0.033032667778422016\n",
      "Epoch = 0, beta = [0.61869801 0.20213767], cost_function = 198.8802822505286\n",
      "Epoch = 10492, theta = [20.00611091  1.90932324], cost_function = 0.03899640297995709\n",
      "Epoch = 0, beta = [0.61532508 0.17011005], cost_function = 197.09288053493816\n",
      "Epoch = 9983, theta = [19.95636151  2.03306985], cost_function = 0.03388415316735761\n",
      "Epoch = 0, beta = [0.61138715 0.13667101], cost_function = 194.8445920803939\n",
      "Epoch = 19396, theta = [20.03207895  1.56371395], cost_function = 0.03643919809914799\n",
      "\n",
      "cost_func for alpha(1) = [0.06135014 0.03067544 0.04491616 0.05260702]\n",
      "min value in cost_func = 0.030675440402427305\n",
      "max value in cost_func = 0.061350141677858426\n",
      "\n",
      "Epoch = 0, beta = [1.86161202 0.69945021], cost_function = 172.32318954770957\n",
      "Epoch = 8116, theta = [19.79263541  2.38654801], cost_function = 0.03303266740388249\n",
      "Epoch = 0, beta = [1.85609403 0.60641302], cost_function = 172.51492353270612\n",
      "Epoch = 3854, theta = [20.00613281  1.90925778], cost_function = 0.0389964028186619\n",
      "Epoch = 0, beta = [1.84597524 0.51033016], cost_function = 171.67789545899885\n",
      "Epoch = 3674, theta = [19.95637948  2.03300625], cost_function = 0.03388415301512924\n",
      "Epoch = 0, beta = [1.83416145 0.41001303], cost_function = 170.32841280143668\n",
      "Epoch = 7207, theta = [20.03210957  1.56357842], cost_function = 0.03643919778291065\n",
      "\n",
      "cost_func for alpha(1) = [0.06134058 0.03067624 0.04491568 0.05261592]\n",
      "min value in cost_func = 0.030676242022561754\n",
      "max value in cost_func = 0.06134058115379042\n",
      "\n",
      "Epoch = 0, beta = [5.58483607 2.09835063], cost_function = 102.50065884279608\n",
      "Epoch = 2972, theta = [19.79265406  2.38649886], cost_function = 0.03303266736234768\n",
      "Epoch = 0, beta = [5.56828209 1.81923905], cost_function = 104.68544161510276\n",
      "Epoch = 1401, theta = [20.0061401   1.90923598], cost_function = 0.03899640280084504\n",
      "Epoch = 0, beta = [5.53792573 1.53099049], cost_function = 105.9679842729052\n",
      "Epoch = 1338, theta = [19.95638548  2.03298502], cost_function = 0.03388415299826705\n",
      "Epoch = 0, beta = [5.50248436 1.2300391 ], cost_function = 106.67208465591116\n",
      "Epoch = 2648, theta = [20.0321198   1.56353314], cost_function = 0.03643919774777099\n",
      "\n",
      "cost_func for alpha(1) = [0.06133739 0.03067651 0.04491553 0.0526189 ]\n",
      "min value in cost_func = 0.03067650897457095\n",
      "max value in cost_func = 0.06133739492260356\n",
      "\n"
     ]
    }
   ],
   "source": [
    "#Model selection\n",
    "incr = 1\n",
    "trial_alpha = np.array([0.01, 0.03, 0.09, 0.27])\n",
    "for try_a in trial_alpha :\n",
    "    calc_costs = np.zeros(4)\n",
    "    for i in range(0,60,15):\n",
    "        cv_x = x_var[i:i+15, :]\n",
    "        cv_y = y_tar[i:i+15]\n",
    "        train_x = np.concatenate((x_var[0:i,:], x_var[i+15:, :])) if i+15 < 60 else x_var[0:i,:]\n",
    "        train_y = np.concatenate((y_tar[0:i], y_tar[i+15:])) if i+15 < 60 else y_tar[0:i]\n",
    "        beta = gradient_descent(try_a, np.array([0.,0.]), train_x, train_y)\n",
    "        calc_costs[i//15] = cost_function(cv_x, cv_y, beta)\n",
    "        min_cf = min(calc_costs)\n",
    "        max_cf = max(calc_costs)\n",
    "    print('\\n'f'cost_func for alpha({incr}) = {calc_costs}')\n",
    "    print(f'min value in cost_func = {min_cf}')\n",
    "    print(f'max value in cost_func = {max_cf}''\\n')\n",
    "incr += 1"
   ]
  },
  {
   "cell_type": "code",
   "execution_count": 9,
   "id": "vocal-colors",
   "metadata": {},
   "outputs": [
    {
     "name": "stdout",
     "output_type": "stream",
     "text": [
      "Epoch = 0, beta = [0.20549563 0.06183907], cost_function = 206.65857757979356\n",
      "Epoch = 33057, theta = [19.95981596  1.97914144], cost_function = 0.03651753585780881\n",
      "Cost function on training set = 0.03651753585780881\n",
      "Cost function on test set = 0.037785463123475284\n"
     ]
    }
   ],
   "source": [
    "second_a = 0.01\n",
    "test_df = np.genfromtxt('test_data.csv', delimiter=',')\n",
    "var_x = np.zeros(test_df.shape)\n",
    "var_x[:, 0] = np.ones(test_df.shape[0])\n",
    "var_x[:, 1] = test_df[:, 0]\n",
    "tar_y = test_df[:,1]\n",
    "\n",
    "beta = gradient_descent(second_a, np.array([0.,0.]), x_var, y_tar)\n",
    "print(f'Cost function on training set = {cost_function(x_var, y_tar, beta)}')\n",
    "print(f'Cost function on test set = {cost_function(var_x, tar_y, beta)}')"
   ]
  },
  {
   "cell_type": "code",
   "execution_count": 10,
   "id": "fantastic-jungle",
   "metadata": {
    "scrolled": true
   },
   "outputs": [
    {
     "data": {
      "text/plain": [
       "[<matplotlib.lines.Line2D at 0x1cd3abc2550>]"
      ]
     },
     "execution_count": 10,
     "metadata": {},
     "output_type": "execute_result"
    },
    {
     "data": {
      "image/png": "[encoded data removed]",
      "text/plain": [
       "<Figure size 432x288 with 1 Axes>"
      ]
     },
     "metadata": {
      "needs_background": "light"
     },
     "output_type": "display_data"
    }
   ],
   "source": [
    "plt.clf()\n",
    "plt.plot(df[:,0], df[:,1], 'gx')\n",
    "plt.plot(test_df[:,0], test_df[:,1], 'yx')\n",
    "points = np.linspace(0,1,15)\n",
    "line = np.array([hypothesis([1,i],beta) for i in points])\n",
    "plt.plot(points, line, 'co-')"
   ]
  },
  {
   "cell_type": "code",
   "execution_count": null,
   "id": "affecting-morocco",
   "metadata": {},
   "outputs": [],
   "source": []
  },
  {
   "cell_type": "code",
   "execution_count": null,
   "id": "united-visitor",
   "metadata": {},
   "outputs": [],
   "source": []
  }
 ],
 "metadata": {
  "kernelspec": {
   "display_name": "Python 3",
   "language": "python",
   "name": "python3"
  },
  "language_info": {
   "codemirror_mode": {
    "name": "ipython",
    "version": 3
   },
   "file_extension": ".py",
   "mimetype": "text/x-python",
   "name": "python",
   "nbconvert_exporter": "python",
   "pygments_lexer": "ipython3",
   "version": "3.9.2"
  }
 },
 "nbformat": 4,
 "nbformat_minor": 5
}
